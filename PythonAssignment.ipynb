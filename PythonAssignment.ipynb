{
  "nbformat": 4,
  "nbformat_minor": 0,
  "metadata": {
    "colab": {
      "name": "PythonAssignment.ipynb",
      "provenance": [],
      "authorship_tag": "ABX9TyMyCopkBisbUNKINXE0RMf3",
      "include_colab_link": true
    },
    "kernelspec": {
      "name": "python3",
      "display_name": "Python 3"
    }
  },
  "cells": [
    {
      "cell_type": "markdown",
      "metadata": {
        "id": "view-in-github",
        "colab_type": "text"
      },
      "source": [
        "<a href=\"https://colab.research.google.com/github/g-sathish/Python-Assignment/blob/master/PythonAssignment.ipynb\" target=\"_parent\"><img src=\"https://colab.research.google.com/assets/colab-badge.svg\" alt=\"Open In Colab\"/></a>"
      ]
    },
    {
      "cell_type": "markdown",
      "metadata": {
        "id": "gx9eWKD-uUJU",
        "colab_type": "text"
      },
      "source": [
        "This Notebook is a Python Assignment"
      ]
    },
    {
      "cell_type": "markdown",
      "metadata": {
        "id": "zsNUF81NuZCA",
        "colab_type": "text"
      },
      "source": [
        "A simple python program to generate even numbers"
      ]
    },
    {
      "cell_type": "code",
      "metadata": {
        "id": "2_0rXAPQuH4J",
        "colab_type": "code",
        "colab": {
          "base_uri": "https://localhost:8080/",
          "height": 54
        },
        "outputId": "3e765dec-3387-4726-dda1-d91cdc6a08e7"
      },
      "source": [
        "def generateEvenNumbers(n):\n",
        "  return [x for x in range(n) if x%2==0]\n",
        "\n",
        "\n",
        "print(generateEvenNumbers(100))"
      ],
      "execution_count": 2,
      "outputs": [
        {
          "output_type": "stream",
          "text": [
            "[0, 2, 4, 6, 8, 10, 12, 14, 16, 18, 20, 22, 24, 26, 28, 30, 32, 34, 36, 38, 40, 42, 44, 46, 48, 50, 52, 54, 56, 58, 60, 62, 64, 66, 68, 70, 72, 74, 76, 78, 80, 82, 84, 86, 88, 90, 92, 94, 96, 98]\n"
          ],
          "name": "stdout"
        }
      ]
    },
    {
      "cell_type": "code",
      "metadata": {
        "id": "9_Ai_z6lvCNu",
        "colab_type": "code",
        "colab": {}
      },
      "source": [
        ""
      ],
      "execution_count": 0,
      "outputs": []
    }
  ]
}